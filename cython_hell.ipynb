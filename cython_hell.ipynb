{
 "metadata": {
  "name": "",
  "signature": "sha256:ee2328756b336c0acdcfffdbd704485b73219e373da0ce0720f85dab16885acc"
 },
 "nbformat": 3,
 "nbformat_minor": 0,
 "worksheets": [
  {
   "cells": [
    {
     "cell_type": "code",
     "collapsed": false,
     "input": [
      "%%cython\n",
      "def myiter(Py_ssize_t n):\n",
      "    cdef Py_ssize_t i\n",
      "    for i in range(n):\n",
      "        yield i\n",
      "        \n",
      "def my_non_iter(Py_ssize_t n):\n",
      "    cdef Py_ssize_t i\n",
      "    return [i for i in range(n)]"
     ],
     "language": "python",
     "metadata": {},
     "outputs": [],
     "prompt_number": 23
    },
    {
     "cell_type": "code",
     "collapsed": false,
     "input": [
      "try:\n",
      "    raise ValueError()\n",
      "except ValueError:\n",
      "    print(sys.exc_info())\n",
      "    x = list(myiter(10))\n",
      "    print(sys.exc_info())"
     ],
     "language": "python",
     "metadata": {},
     "outputs": [
      {
       "output_type": "stream",
       "stream": "stdout",
       "text": [
        "(<type 'exceptions.ValueError'>, ValueError(), <traceback object at 0x7f47dc4d7e18>)\n",
        "(None, None, None)\n"
       ]
      }
     ],
     "prompt_number": 25
    },
    {
     "cell_type": "code",
     "collapsed": false,
     "input": [
      "try:\n",
      "    raise ValueError()\n",
      "except ValueError:\n",
      "    print(sys.exc_info())\n",
      "    x = list(my_non_iter(10))\n",
      "    print(sys.exc_info())"
     ],
     "language": "python",
     "metadata": {},
     "outputs": [
      {
       "output_type": "stream",
       "stream": "stdout",
       "text": [
        "(<type 'exceptions.ValueError'>, ValueError(), <traceback object at 0x7f47dcb723b0>)\n",
        "(<type 'exceptions.ValueError'>, ValueError(), <traceback object at 0x7f47dcb723b0>)\n"
       ]
      }
     ],
     "prompt_number": 26
    }
   ],
   "metadata": {}
  }
 ]
}